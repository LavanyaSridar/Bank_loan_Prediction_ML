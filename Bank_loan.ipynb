{
 "cells": [
  {
   "cell_type": "code",
   "execution_count": 2,
   "id": "293fc6b2",
   "metadata": {},
   "outputs": [],
   "source": [
    "from sklearn.svm import SVC\n",
    "from sklearn.neighbors import  KNeighborsClassifier\n",
    "from sklearn.tree import DecisionTreeClassifier\n",
    "\n",
    "from sklearn.model_selection import train_test_split\n",
    "from sklearn.preprocessing import StandardScaler\n",
    "from sklearn import metrics\n",
    "import pandas as pd\n",
    "import numpy as np"
   ]
  },
  {
   "cell_type": "code",
   "execution_count": 3,
   "id": "efbb01b3",
   "metadata": {},
   "outputs": [],
   "source": [
    "data=pd.read_csv(r\"C:\\Users\\LAVANYA\\Desktop\\Lavanya -DS notes and task\\Bank_Personal_Loan_Modelling.csv\")"
   ]
  },
  {
   "cell_type": "code",
   "execution_count": 4,
   "id": "40d533fa",
   "metadata": {},
   "outputs": [
    {
     "data": {
      "text/html": [
       "<div>\n",
       "<style scoped>\n",
       "    .dataframe tbody tr th:only-of-type {\n",
       "        vertical-align: middle;\n",
       "    }\n",
       "\n",
       "    .dataframe tbody tr th {\n",
       "        vertical-align: top;\n",
       "    }\n",
       "\n",
       "    .dataframe thead th {\n",
       "        text-align: right;\n",
       "    }\n",
       "</style>\n",
       "<table border=\"1\" class=\"dataframe\">\n",
       "  <thead>\n",
       "    <tr style=\"text-align: right;\">\n",
       "      <th></th>\n",
       "      <th>ID</th>\n",
       "      <th>Age</th>\n",
       "      <th>Experience</th>\n",
       "      <th>Income</th>\n",
       "      <th>ZIP Code</th>\n",
       "      <th>Family</th>\n",
       "      <th>CCAvg</th>\n",
       "      <th>Education</th>\n",
       "      <th>Mortgage</th>\n",
       "      <th>Personal Loan</th>\n",
       "      <th>Securities Account</th>\n",
       "      <th>CD Account</th>\n",
       "      <th>Online</th>\n",
       "      <th>CreditCard</th>\n",
       "    </tr>\n",
       "  </thead>\n",
       "  <tbody>\n",
       "    <tr>\n",
       "      <th>0</th>\n",
       "      <td>1</td>\n",
       "      <td>25</td>\n",
       "      <td>1</td>\n",
       "      <td>49</td>\n",
       "      <td>91107</td>\n",
       "      <td>4</td>\n",
       "      <td>1.6</td>\n",
       "      <td>1</td>\n",
       "      <td>0</td>\n",
       "      <td>0</td>\n",
       "      <td>1</td>\n",
       "      <td>0</td>\n",
       "      <td>0</td>\n",
       "      <td>0</td>\n",
       "    </tr>\n",
       "    <tr>\n",
       "      <th>1</th>\n",
       "      <td>2</td>\n",
       "      <td>45</td>\n",
       "      <td>19</td>\n",
       "      <td>34</td>\n",
       "      <td>90089</td>\n",
       "      <td>3</td>\n",
       "      <td>1.5</td>\n",
       "      <td>1</td>\n",
       "      <td>0</td>\n",
       "      <td>0</td>\n",
       "      <td>1</td>\n",
       "      <td>0</td>\n",
       "      <td>0</td>\n",
       "      <td>0</td>\n",
       "    </tr>\n",
       "    <tr>\n",
       "      <th>2</th>\n",
       "      <td>3</td>\n",
       "      <td>39</td>\n",
       "      <td>15</td>\n",
       "      <td>11</td>\n",
       "      <td>94720</td>\n",
       "      <td>1</td>\n",
       "      <td>1.0</td>\n",
       "      <td>1</td>\n",
       "      <td>0</td>\n",
       "      <td>0</td>\n",
       "      <td>0</td>\n",
       "      <td>0</td>\n",
       "      <td>0</td>\n",
       "      <td>0</td>\n",
       "    </tr>\n",
       "    <tr>\n",
       "      <th>3</th>\n",
       "      <td>4</td>\n",
       "      <td>35</td>\n",
       "      <td>9</td>\n",
       "      <td>100</td>\n",
       "      <td>94112</td>\n",
       "      <td>1</td>\n",
       "      <td>2.7</td>\n",
       "      <td>2</td>\n",
       "      <td>0</td>\n",
       "      <td>0</td>\n",
       "      <td>0</td>\n",
       "      <td>0</td>\n",
       "      <td>0</td>\n",
       "      <td>0</td>\n",
       "    </tr>\n",
       "    <tr>\n",
       "      <th>4</th>\n",
       "      <td>5</td>\n",
       "      <td>35</td>\n",
       "      <td>8</td>\n",
       "      <td>45</td>\n",
       "      <td>91330</td>\n",
       "      <td>4</td>\n",
       "      <td>1.0</td>\n",
       "      <td>2</td>\n",
       "      <td>0</td>\n",
       "      <td>0</td>\n",
       "      <td>0</td>\n",
       "      <td>0</td>\n",
       "      <td>0</td>\n",
       "      <td>1</td>\n",
       "    </tr>\n",
       "    <tr>\n",
       "      <th>...</th>\n",
       "      <td>...</td>\n",
       "      <td>...</td>\n",
       "      <td>...</td>\n",
       "      <td>...</td>\n",
       "      <td>...</td>\n",
       "      <td>...</td>\n",
       "      <td>...</td>\n",
       "      <td>...</td>\n",
       "      <td>...</td>\n",
       "      <td>...</td>\n",
       "      <td>...</td>\n",
       "      <td>...</td>\n",
       "      <td>...</td>\n",
       "      <td>...</td>\n",
       "    </tr>\n",
       "    <tr>\n",
       "      <th>4995</th>\n",
       "      <td>4996</td>\n",
       "      <td>29</td>\n",
       "      <td>3</td>\n",
       "      <td>40</td>\n",
       "      <td>92697</td>\n",
       "      <td>1</td>\n",
       "      <td>1.9</td>\n",
       "      <td>3</td>\n",
       "      <td>0</td>\n",
       "      <td>0</td>\n",
       "      <td>0</td>\n",
       "      <td>0</td>\n",
       "      <td>1</td>\n",
       "      <td>0</td>\n",
       "    </tr>\n",
       "    <tr>\n",
       "      <th>4996</th>\n",
       "      <td>4997</td>\n",
       "      <td>30</td>\n",
       "      <td>4</td>\n",
       "      <td>15</td>\n",
       "      <td>92037</td>\n",
       "      <td>4</td>\n",
       "      <td>0.4</td>\n",
       "      <td>1</td>\n",
       "      <td>85</td>\n",
       "      <td>0</td>\n",
       "      <td>0</td>\n",
       "      <td>0</td>\n",
       "      <td>1</td>\n",
       "      <td>0</td>\n",
       "    </tr>\n",
       "    <tr>\n",
       "      <th>4997</th>\n",
       "      <td>4998</td>\n",
       "      <td>63</td>\n",
       "      <td>39</td>\n",
       "      <td>24</td>\n",
       "      <td>93023</td>\n",
       "      <td>2</td>\n",
       "      <td>0.3</td>\n",
       "      <td>3</td>\n",
       "      <td>0</td>\n",
       "      <td>0</td>\n",
       "      <td>0</td>\n",
       "      <td>0</td>\n",
       "      <td>0</td>\n",
       "      <td>0</td>\n",
       "    </tr>\n",
       "    <tr>\n",
       "      <th>4998</th>\n",
       "      <td>4999</td>\n",
       "      <td>65</td>\n",
       "      <td>40</td>\n",
       "      <td>49</td>\n",
       "      <td>90034</td>\n",
       "      <td>3</td>\n",
       "      <td>0.5</td>\n",
       "      <td>2</td>\n",
       "      <td>0</td>\n",
       "      <td>0</td>\n",
       "      <td>0</td>\n",
       "      <td>0</td>\n",
       "      <td>1</td>\n",
       "      <td>0</td>\n",
       "    </tr>\n",
       "    <tr>\n",
       "      <th>4999</th>\n",
       "      <td>5000</td>\n",
       "      <td>28</td>\n",
       "      <td>4</td>\n",
       "      <td>83</td>\n",
       "      <td>92612</td>\n",
       "      <td>3</td>\n",
       "      <td>0.8</td>\n",
       "      <td>1</td>\n",
       "      <td>0</td>\n",
       "      <td>0</td>\n",
       "      <td>0</td>\n",
       "      <td>0</td>\n",
       "      <td>1</td>\n",
       "      <td>1</td>\n",
       "    </tr>\n",
       "  </tbody>\n",
       "</table>\n",
       "<p>5000 rows × 14 columns</p>\n",
       "</div>"
      ],
      "text/plain": [
       "        ID  Age  Experience  Income  ZIP Code  Family  CCAvg  Education  \\\n",
       "0        1   25           1      49     91107       4    1.6          1   \n",
       "1        2   45          19      34     90089       3    1.5          1   \n",
       "2        3   39          15      11     94720       1    1.0          1   \n",
       "3        4   35           9     100     94112       1    2.7          2   \n",
       "4        5   35           8      45     91330       4    1.0          2   \n",
       "...    ...  ...         ...     ...       ...     ...    ...        ...   \n",
       "4995  4996   29           3      40     92697       1    1.9          3   \n",
       "4996  4997   30           4      15     92037       4    0.4          1   \n",
       "4997  4998   63          39      24     93023       2    0.3          3   \n",
       "4998  4999   65          40      49     90034       3    0.5          2   \n",
       "4999  5000   28           4      83     92612       3    0.8          1   \n",
       "\n",
       "      Mortgage  Personal Loan  Securities Account  CD Account  Online  \\\n",
       "0            0              0                   1           0       0   \n",
       "1            0              0                   1           0       0   \n",
       "2            0              0                   0           0       0   \n",
       "3            0              0                   0           0       0   \n",
       "4            0              0                   0           0       0   \n",
       "...        ...            ...                 ...         ...     ...   \n",
       "4995         0              0                   0           0       1   \n",
       "4996        85              0                   0           0       1   \n",
       "4997         0              0                   0           0       0   \n",
       "4998         0              0                   0           0       1   \n",
       "4999         0              0                   0           0       1   \n",
       "\n",
       "      CreditCard  \n",
       "0              0  \n",
       "1              0  \n",
       "2              0  \n",
       "3              0  \n",
       "4              1  \n",
       "...          ...  \n",
       "4995           0  \n",
       "4996           0  \n",
       "4997           0  \n",
       "4998           0  \n",
       "4999           1  \n",
       "\n",
       "[5000 rows x 14 columns]"
      ]
     },
     "execution_count": 4,
     "metadata": {},
     "output_type": "execute_result"
    }
   ],
   "source": [
    "data"
   ]
  },
  {
   "cell_type": "code",
   "execution_count": 5,
   "id": "5b3c3d08",
   "metadata": {},
   "outputs": [],
   "source": [
    "X = data.drop('Personal Loan', axis = 1).values\n",
    "y = data['Personal Loan'].values.reshape((-1, 1))\n"
   ]
  },
  {
   "cell_type": "code",
   "execution_count": 6,
   "id": "a86c39cd",
   "metadata": {},
   "outputs": [
    {
     "data": {
      "text/plain": [
       "array([[1.000e+00, 2.500e+01, 1.000e+00, ..., 0.000e+00, 0.000e+00,\n",
       "        0.000e+00],\n",
       "       [2.000e+00, 4.500e+01, 1.900e+01, ..., 0.000e+00, 0.000e+00,\n",
       "        0.000e+00],\n",
       "       [3.000e+00, 3.900e+01, 1.500e+01, ..., 0.000e+00, 0.000e+00,\n",
       "        0.000e+00],\n",
       "       ...,\n",
       "       [4.998e+03, 6.300e+01, 3.900e+01, ..., 0.000e+00, 0.000e+00,\n",
       "        0.000e+00],\n",
       "       [4.999e+03, 6.500e+01, 4.000e+01, ..., 0.000e+00, 1.000e+00,\n",
       "        0.000e+00],\n",
       "       [5.000e+03, 2.800e+01, 4.000e+00, ..., 0.000e+00, 1.000e+00,\n",
       "        1.000e+00]])"
      ]
     },
     "execution_count": 6,
     "metadata": {},
     "output_type": "execute_result"
    }
   ],
   "source": [
    "X"
   ]
  },
  {
   "cell_type": "code",
   "execution_count": 7,
   "id": "2cdc68e0",
   "metadata": {},
   "outputs": [
    {
     "data": {
      "text/plain": [
       "array([[0],\n",
       "       [0],\n",
       "       [0],\n",
       "       ...,\n",
       "       [0],\n",
       "       [0],\n",
       "       [0]], dtype=int64)"
      ]
     },
     "execution_count": 7,
     "metadata": {},
     "output_type": "execute_result"
    }
   ],
   "source": [
    "y=y.reshape(-1,1)\n",
    "y\n"
   ]
  },
  {
   "cell_type": "code",
   "execution_count": 8,
   "id": "f9b70da8",
   "metadata": {},
   "outputs": [
    {
     "name": "stdout",
     "output_type": "stream",
     "text": [
      "X Train :  (3500, 13)\n",
      "X Test  :  (1500, 13)\n",
      "Y Train :  (3500, 1)\n",
      "Y Test  :  (1500, 1)\n"
     ]
    }
   ],
   "source": [
    "xtrain,xtest,ytrain,ytest = train_test_split(X,y,random_state=1,test_size=0.30)\n",
    "\n",
    "\n",
    "print(\"X Train : \", xtrain.shape)\n",
    "print(\"X Test  : \", xtest.shape)\n",
    "print(\"Y Train : \", ytrain.shape)\n",
    "print(\"Y Test  : \", ytest.shape)\n"
   ]
  },
  {
   "cell_type": "code",
   "execution_count": 9,
   "id": "dcbfaef9",
   "metadata": {},
   "outputs": [
    {
     "name": "stderr",
     "output_type": "stream",
     "text": [
      "C:\\Users\\LAVANYA\\anaconda3\\lib\\site-packages\\sklearn\\utils\\validation.py:993: DataConversionWarning: A column-vector y was passed when a 1d array was expected. Please change the shape of y to (n_samples, ), for example using ravel().\n",
      "  y = column_or_1d(y, warn=True)\n"
     ]
    },
    {
     "data": {
      "text/plain": [
       "SVC(kernel='linear', random_state=0)"
      ]
     },
     "execution_count": 9,
     "metadata": {},
     "output_type": "execute_result"
    }
   ],
   "source": [
    "\n",
    "SVMclassifier = SVC(kernel = 'linear', random_state = 0)\n",
    "SVMclassifier.fit(xtrain, ytrain)"
   ]
  },
  {
   "cell_type": "code",
   "execution_count": 10,
   "id": "23995ca1",
   "metadata": {},
   "outputs": [],
   "source": [
    "y_pred = SVMclassifier.predict(xtest)"
   ]
  },
  {
   "cell_type": "code",
   "execution_count": 11,
   "id": "19d09b8e",
   "metadata": {},
   "outputs": [
    {
     "name": "stdout",
     "output_type": "stream",
     "text": [
      "[[1320   31]\n",
      " [ 107   42]]\n"
     ]
    }
   ],
   "source": [
    "cm = metrics.confusion_matrix(ytest, y_pred)\n",
    "print(cm)\n"
   ]
  },
  {
   "cell_type": "code",
   "execution_count": 13,
   "id": "da1c0d44",
   "metadata": {},
   "outputs": [
    {
     "name": "stdout",
     "output_type": "stream",
     "text": [
      "Classification report               precision    recall  f1-score   support\n",
      "\n",
      "           0       0.93      0.98      0.95      1351\n",
      "           1       0.58      0.28      0.38       149\n",
      "\n",
      "    accuracy                           0.91      1500\n",
      "   macro avg       0.75      0.63      0.66      1500\n",
      "weighted avg       0.89      0.91      0.89      1500\n",
      "\n"
     ]
    }
   ],
   "source": [
    "print(\"Classification report\",metrics.classification_report(ytest,y_pred))"
   ]
  },
  {
   "cell_type": "code",
   "execution_count": 14,
   "id": "d0ddd927",
   "metadata": {},
   "outputs": [
    {
     "name": "stdout",
     "output_type": "stream",
     "text": [
      "Accuracy Score of SVC is: 90.8\n"
     ]
    }
   ],
   "source": [
    "SVM_acc1 = metrics.accuracy_score(ytest, y_pred)\n",
    "print(\"Accuracy Score of SVC is:\",SVM_acc1*100)"
   ]
  },
  {
   "cell_type": "code",
   "execution_count": 15,
   "id": "0e9da650",
   "metadata": {},
   "outputs": [],
   "source": [
    "#knn\n",
    "KNNclassifier = KNeighborsClassifier(n_neighbors = 3)\n",
    "X = data.drop(columns=\"Personal Loan\")           \n",
    "y = data[\"Personal Loan\"]   \n",
    "\n"
   ]
  },
  {
   "cell_type": "code",
   "execution_count": 16,
   "id": "c4f41e5c",
   "metadata": {},
   "outputs": [
    {
     "name": "stdout",
     "output_type": "stream",
     "text": [
      "(4000, 13)\n",
      "(4000,)\n",
      "        ID  Age  Experience  Income  ZIP Code  Family  CCAvg  Education  \\\n",
      "868    869   40          15     161     94596       2    3.3          1   \n",
      "936    937   62          32      19     92109       1    1.5          3   \n",
      "4034  4035   35          11      82     94022       2    1.7          2   \n",
      "1923  1924   45          19      22     90639       1    0.2          1   \n",
      "3330  3331   34           9      32     95054       4    1.1          3   \n",
      "...    ...  ...         ...     ...       ...     ...    ...        ...   \n",
      "4486  4487   44          19      48     92735       3    0.8          3   \n",
      "2188  2189   29           4       9     92037       4    0.5          3   \n",
      "2141  2142   28           4      38     92109       4    1.6          1   \n",
      "2012  2013   57          31      51     93943       1    1.4          1   \n",
      "3079  3080   55          31      23     95616       2    0.3          1   \n",
      "\n",
      "      Mortgage  Securities Account  CD Account  Online  CreditCard  \n",
      "868          0                   1           0       0           1  \n",
      "936          0                   1           0       0           0  \n",
      "4034         0                   0           0       1           1  \n",
      "1923         0                   0           0       1           0  \n",
      "3330         0                   0           0       1           0  \n",
      "...        ...                 ...         ...     ...         ...  \n",
      "4486         0                   0           0       0           1  \n",
      "2188        86                   0           0       1           1  \n",
      "2141         0                   0           0       0           0  \n",
      "2012         0                   0           0       1           1  \n",
      "3079         0                   0           0       1           1  \n",
      "\n",
      "[1000 rows x 13 columns]\n"
     ]
    }
   ],
   "source": [
    "X_train, X_test, y_train, y_test = train_test_split(X, y, test_size=0.20, random_state=2)\n",
    "print(X_train.shape)\n",
    "print(y_train.shape)\n",
    "print(X_train.head(1000))\n",
    "\n",
    "\n"
   ]
  },
  {
   "cell_type": "code",
   "execution_count": 17,
   "id": "41c9988c",
   "metadata": {},
   "outputs": [
    {
     "name": "stdout",
     "output_type": "stream",
     "text": [
      "[[-1.13903136 -0.46398276 -0.44381535 ... -0.25984742 -1.21585967\n",
      "   1.5421992 ]\n",
      " [-1.09178696  1.45366155  1.0362221  ... -0.25984742 -1.21585967\n",
      "  -0.64842466]\n",
      " [ 1.06061226 -0.89981101 -0.79205945 ... -0.25984742  0.82246333\n",
      "   1.5421992 ]\n",
      " ...\n",
      " [ 0.004561   -0.37681711 -0.35675432 ... -0.25984742 -1.21585967\n",
      "  -0.64842466]\n",
      " [ 0.76325046 -0.20248581 -0.18263227 ... -0.25984742  0.82246333\n",
      "   1.5421992 ]\n",
      " [ 0.046942   -0.28965146 -0.35675432 ... -0.25984742  0.82246333\n",
      "  -0.64842466]]\n",
      "[[ 0.73545964  1.0178333   1.12328313 ... -0.25984742  0.82246333\n",
      "   1.5421992 ]\n",
      " [ 1.21207225  0.75633635  0.77503902 ... -0.25984742 -1.21585967\n",
      "  -0.64842466]\n",
      " [-0.40952226 -0.55114841 -0.96618151 ...  3.84841223  0.82246333\n",
      "   1.5421992 ]\n",
      " ...\n",
      " [-0.7367592   0.58200505  0.687978   ... -0.25984742  0.82246333\n",
      "  -0.64842466]\n",
      " [-1.22657246 -1.16130796 -1.22736459 ... -0.25984742  0.82246333\n",
      "  -0.64842466]\n",
      " [ 1.1210573   0.6691707   0.60091697 ... -0.25984742 -1.21585967\n",
      "   1.5421992 ]]\n"
     ]
    }
   ],
   "source": [
    "scaler = StandardScaler()\n",
    "scaled_X_train = scaler.fit_transform(X_train)\n",
    "scaled_X_test = scaler.transform(X_test)\n",
    "print(scaled_X_train)\n",
    "print(scaled_X_test)\n"
   ]
  },
  {
   "cell_type": "code",
   "execution_count": 18,
   "id": "c8977970",
   "metadata": {},
   "outputs": [
    {
     "data": {
      "text/plain": [
       "KNeighborsClassifier(n_neighbors=3)"
      ]
     },
     "execution_count": 18,
     "metadata": {},
     "output_type": "execute_result"
    }
   ],
   "source": [
    "knn = KNeighborsClassifier(n_neighbors=3) # here n_neighbors is k \n",
    "knn.fit(scaled_X_train,y_train)"
   ]
  },
  {
   "cell_type": "code",
   "execution_count": 19,
   "id": "9c52ce0d",
   "metadata": {},
   "outputs": [
    {
     "name": "stderr",
     "output_type": "stream",
     "text": [
      "C:\\Users\\LAVANYA\\anaconda3\\lib\\site-packages\\sklearn\\neighbors\\_classification.py:228: FutureWarning: Unlike other reduction functions (e.g. `skew`, `kurtosis`), the default behavior of `mode` typically preserves the axis it acts along. In SciPy 1.11.0, this behavior will change: the default value of `keepdims` will become False, the `axis` over which the statistic is taken will be eliminated, and the value None will no longer be accepted. Set `keepdims` to True or False to avoid this warning.\n",
      "  mode, _ = stats.mode(_y[neigh_ind, k], axis=1)\n"
     ]
    }
   ],
   "source": [
    "#prediction\n",
    "ypre = knn.predict(scaled_X_test)"
   ]
  },
  {
   "cell_type": "code",
   "execution_count": 20,
   "id": "bea0e31e",
   "metadata": {},
   "outputs": [
    {
     "data": {
      "text/plain": [
       "array([[907,   2],\n",
       "       [ 36,  55]], dtype=int64)"
      ]
     },
     "execution_count": 20,
     "metadata": {},
     "output_type": "execute_result"
    }
   ],
   "source": [
    "co=metrics.confusion_matrix(y_test,ypre)\n",
    "co"
   ]
  },
  {
   "cell_type": "code",
   "execution_count": 21,
   "id": "8a1f3686",
   "metadata": {},
   "outputs": [
    {
     "data": {
      "text/plain": [
       "1000"
      ]
     },
     "execution_count": 21,
     "metadata": {},
     "output_type": "execute_result"
    }
   ],
   "source": [
    "len(y_test)"
   ]
  },
  {
   "cell_type": "code",
   "execution_count": 22,
   "id": "6f6b1382",
   "metadata": {},
   "outputs": [
    {
     "name": "stdout",
     "output_type": "stream",
     "text": [
      "Classification report               precision    recall  f1-score   support\n",
      "\n",
      "           0       0.96      1.00      0.98       909\n",
      "           1       0.96      0.60      0.74        91\n",
      "\n",
      "    accuracy                           0.96      1000\n",
      "   macro avg       0.96      0.80      0.86      1000\n",
      "weighted avg       0.96      0.96      0.96      1000\n",
      "\n"
     ]
    }
   ],
   "source": [
    "print(\"Classification report\",metrics.classification_report(y_test,ypre))\n"
   ]
  },
  {
   "cell_type": "code",
   "execution_count": 23,
   "id": "1652fcbf",
   "metadata": {},
   "outputs": [
    {
     "name": "stdout",
     "output_type": "stream",
     "text": [
      "The accuracy score of KNN is: 96.2\n"
     ]
    }
   ],
   "source": [
    "s=metrics.accuracy_score(y_test,ypre)\n",
    "print(\"The accuracy score of KNN is:\",s*100)"
   ]
  },
  {
   "cell_type": "code",
   "execution_count": 24,
   "id": "d5bf20c8",
   "metadata": {},
   "outputs": [],
   "source": [
    "#DT\n",
    "X = data.drop(columns=\"Personal Loan\")           \n",
    "y = data[\"Personal Loan\"]   \n"
   ]
  },
  {
   "cell_type": "code",
   "execution_count": 25,
   "id": "b38cffda",
   "metadata": {},
   "outputs": [
    {
     "name": "stdout",
     "output_type": "stream",
     "text": [
      "(4000, 13)\n",
      "(4000,)\n",
      "(1000, 13)\n",
      "(1000,)\n",
      "        ID  Age  Experience  Income  ZIP Code  Family  CCAvg  Education  \\\n",
      "1233  1234   53          29      22     93943       2   0.40          1   \n",
      "1056  1057   36           6      25     95020       1   0.67          3   \n",
      "1686  1687   62          38      39     96003       4   2.20          1   \n",
      "187    188   46          21     159     94305       3   1.90          3   \n",
      "3840  3841   56          31      35     95211       3   0.10          2   \n",
      "...    ...  ...         ...     ...       ...     ...    ...        ...   \n",
      "3687  3688   34          10      45     93943       1   1.33          1   \n",
      "2491  2492   38          14      80     92868       2   2.70          1   \n",
      "4885  4886   54          30      28     92103       2   0.80          1   \n",
      "807    808   52          27     162     92096       1   8.10          1   \n",
      "1469  1470   59          35      59     90005       4   1.20          2   \n",
      "\n",
      "      Mortgage  Securities Account  CD Account  Online  CreditCard  \n",
      "1233         0                   0           0       1           0  \n",
      "1056         0                   0           0       1           0  \n",
      "1686         0                   1           0       1           0  \n",
      "187        315                   0           0       1           0  \n",
      "3840       114                   0           0       0           0  \n",
      "...        ...                 ...         ...     ...         ...  \n",
      "3687         0                   0           0       0           0  \n",
      "2491         0                   0           0       1           0  \n",
      "4885         0                   0           0       1           0  \n",
      "807          0                   0           0       1           0  \n",
      "1469         0                   0           0       1           0  \n",
      "\n",
      "[2000 rows x 13 columns]\n"
     ]
    }
   ],
   "source": [
    "X_train, X_test, y_train, y_test = train_test_split(X, y, test_size=0.20, random_state=1)\n",
    "print(X_train.shape)\n",
    "print(y_train.shape)\n",
    "print(X_test.shape)\n",
    "print(y_test.shape)\n",
    "print(X_train.head(2000))"
   ]
  },
  {
   "cell_type": "code",
   "execution_count": 26,
   "id": "635eb57b",
   "metadata": {},
   "outputs": [
    {
     "data": {
      "text/plain": [
       "'scaler = StandardScaler()\\nscaled_x_train = scaler.fit_transform(X_train)\\nscaled_x_test = scaler.transform(X_test)\\nprint(scaled_x_train)\\nprint(scaled_x_test)\\n'"
      ]
     },
     "execution_count": 26,
     "metadata": {},
     "output_type": "execute_result"
    }
   ],
   "source": [
    "'''scaler = StandardScaler()\n",
    "scaled_x_train = scaler.fit_transform(X_train)\n",
    "scaled_x_test = scaler.transform(X_test)\n",
    "print(scaled_x_train)\n",
    "print(scaled_x_test)\n",
    "'''"
   ]
  },
  {
   "cell_type": "code",
   "execution_count": 27,
   "id": "534a1f09",
   "metadata": {},
   "outputs": [
    {
     "data": {
      "text/plain": [
       "DecisionTreeClassifier(criterion='entropy', max_depth=3, min_samples_leaf=5,\n",
       "                       random_state=10)"
      ]
     },
     "execution_count": 27,
     "metadata": {},
     "output_type": "execute_result"
    }
   ],
   "source": [
    "#DT\n",
    "DTclassifier = DecisionTreeClassifier(criterion = 'entropy',random_state = 10,max_depth = 3, min_samples_leaf = 5)\n",
    "DTclassifier.fit(X_train, y_train)"
   ]
  },
  {
   "cell_type": "code",
   "execution_count": 28,
   "id": "728fd8e8",
   "metadata": {},
   "outputs": [],
   "source": [
    "ypred = DTclassifier.predict(X_test)\n"
   ]
  },
  {
   "cell_type": "code",
   "execution_count": 29,
   "id": "251ddab0",
   "metadata": {},
   "outputs": [
    {
     "name": "stdout",
     "output_type": "stream",
     "text": [
      "[[893   7]\n",
      " [ 19  81]]\n"
     ]
    }
   ],
   "source": [
    "cm2= metrics.confusion_matrix(y_test, ypred)\n",
    "print(cm2)"
   ]
  },
  {
   "cell_type": "code",
   "execution_count": 30,
   "id": "53b1ed45",
   "metadata": {},
   "outputs": [
    {
     "name": "stdout",
     "output_type": "stream",
     "text": [
      "Accuracy score of entropy is:  97.39999999999999\n"
     ]
    }
   ],
   "source": [
    "entropy = metrics.accuracy_score(y_test, ypred)\n",
    "print(\"Accuracy score of entropy is: \",entropy*100)"
   ]
  },
  {
   "cell_type": "code",
   "execution_count": 31,
   "id": "a05cd74d",
   "metadata": {},
   "outputs": [
    {
     "data": {
      "text/plain": [
       "DecisionTreeClassifier(max_depth=5, min_samples_leaf=8, random_state=10)"
      ]
     },
     "execution_count": 31,
     "metadata": {},
     "output_type": "execute_result"
    }
   ],
   "source": [
    "DTclassifier1 = DecisionTreeClassifier(criterion = 'gini', random_state = 10,\n",
    "            max_depth = 5, min_samples_leaf = 8)\n",
    "DTclassifier1.fit(X_train, y_train)"
   ]
  },
  {
   "cell_type": "code",
   "execution_count": 32,
   "id": "ad0d7f4c",
   "metadata": {},
   "outputs": [],
   "source": [
    "y_predt = DTclassifier1.predict(X_test)\n"
   ]
  },
  {
   "cell_type": "code",
   "execution_count": 33,
   "id": "b7eab267",
   "metadata": {},
   "outputs": [
    {
     "name": "stdout",
     "output_type": "stream",
     "text": [
      "Accuracy score of gini is: 98.0\n"
     ]
    }
   ],
   "source": [
    "gini= metrics.accuracy_score(y_test, y_predt)\n",
    "print(f\"Accuracy score of gini is: {gini*100}\")"
   ]
  },
  {
   "cell_type": "code",
   "execution_count": 34,
   "id": "48b63241",
   "metadata": {},
   "outputs": [
    {
     "data": {
      "image/png": "[encoded data removed]",
      "text/plain": [
       "<Figure size 640x480 with 1 Axes>"
      ]
     },
     "metadata": {},
     "output_type": "display_data"
    }
   ],
   "source": [
    "#The best algorithm for this dataset is DT with 98%\n",
    "import matplotlib.pyplot as plt \n",
    "\n",
    "Accuracy = [90,96,98]\n",
    "color_code = ['m','c','y']\n",
    "deviate_fraction = [0,0,0.2]\n",
    "Algorithm = ['SVC','KNN','DT']\n",
    "plt.pie(Accuracy,colors=color_code,labels=Algorithm,explode=deviate_fraction)\n",
    "plt.title('Accuracy comparison')\n",
    "plt.show()"
   ]
  },
  {
   "cell_type": "code",
   "execution_count": null,
   "id": "6fe5f2ac",
   "metadata": {},
   "outputs": [],
   "source": []
  }
 ],
 "metadata": {
  "kernelspec": {
   "display_name": "Python 3 (ipykernel)",
   "language": "python",
   "name": "python3"
  },
  "language_info": {
   "codemirror_mode": {
    "name": "ipython",
    "version": 3
   },
   "file_extension": ".py",
   "mimetype": "text/x-python",
   "name": "python",
   "nbconvert_exporter": "python",
   "pygments_lexer": "ipython3",
   "version": "3.9.13"
  }
 },
 "nbformat": 4,
 "nbformat_minor": 5
}
